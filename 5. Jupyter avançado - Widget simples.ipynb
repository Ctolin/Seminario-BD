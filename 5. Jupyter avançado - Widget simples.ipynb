{
 "cells": [
  {
   "cell_type": "markdown",
   "metadata": {
    "slideshow": {
     "slide_suffix": "Widget Simples",
     "slide_title": "Jupyter Avançado",
     "slide_type": "slide"
    },
    "tags": []
   },
   "source": [
    "# 5. Apresentando um exemplo de Widget Simples (Jupyter avançado)\n",
    "\n",
    "https://linktr.ee/jaijupyter\n",
    "\n",
    "Até esse momento, nossa interatividade com o Jupyter ainda está limitada a execução de células.\n",
    "\n",
    "É possível aumentar ainda mais a interatividade criando widgets com `ipywidgets`."
   ]
  },
  {
   "cell_type": "markdown",
   "metadata": {
    "slideshow": {
     "slide_type": "slide"
    },
    "tags": []
   },
   "source": [
    "Vamos carregar os dados do dataset:"
   ]
  },
  {
   "cell_type": "code",
   "execution_count": 1,
   "metadata": {},
   "outputs": [],
   "source": [
    "import pandas as pd\n",
    "df = pd.read_csv('C:/Users/camil/OneDrive/Área de Trabalho/Seminario Jupyter Notebook/spotify_hits_dataset_complete.tsv', sep=\"\\t\")"
   ]
  },
  {
   "cell_type": "markdown",
   "metadata": {
    "slideshow": {
     "slide_type": "slide"
    },
    "tags": []
   },
   "source": [
    "Nesse dataset podemos ver qual é o quantile **50** da coluna `duration_ms`:"
   ]
  },
  {
   "cell_type": "code",
   "execution_count": 2,
   "metadata": {},
   "outputs": [
    {
     "data": {
      "text/plain": [
       "193683.0"
      ]
     },
     "execution_count": 2,
     "metadata": {},
     "output_type": "execute_result"
    }
   ],
   "source": [
    "q = 50 / 100\n",
    "df[\"duration_ms\"].quantile(q=q)"
   ]
  },
  {
   "cell_type": "markdown",
   "metadata": {
    "slideshow": {
     "slide_type": "subslide"
    },
    "tags": []
   },
   "source": [
    "Nesse dataset podemos ver qual é o quantile **25** da coluna `duration_ms`:"
   ]
  },
  {
   "cell_type": "code",
   "execution_count": 3,
   "metadata": {},
   "outputs": [
    {
     "data": {
      "text/plain": [
       "170763.25"
      ]
     },
     "execution_count": 3,
     "metadata": {},
     "output_type": "execute_result"
    }
   ],
   "source": [
    "q = 25 / 100\n",
    "df[\"duration_ms\"].quantile(q=q)"
   ]
  },
  {
   "cell_type": "markdown",
   "metadata": {
    "slideshow": {
     "slide_type": "subslide"
    },
    "tags": []
   },
   "source": [
    "Nesse dataset podemos ver qual é o quantile **75** da coluna `duration_ms`:"
   ]
  },
  {
   "cell_type": "code",
   "execution_count": 4,
   "metadata": {},
   "outputs": [
    {
     "data": {
      "text/plain": [
       "217098.25"
      ]
     },
     "execution_count": 4,
     "metadata": {},
     "output_type": "execute_result"
    }
   ],
   "source": [
    "q = 75 / 100\n",
    "df[\"duration_ms\"].quantile(q=q)"
   ]
  },
  {
   "cell_type": "markdown",
   "metadata": {
    "slideshow": {
     "slide_type": "slide"
    },
    "tags": []
   },
   "source": [
    "E assim por diante, olhando para diversos valores de 0 a 100."
   ]
  },
  {
   "cell_type": "markdown",
   "metadata": {
    "slideshow": {
     "slide_type": "slide"
    },
    "tags": []
   },
   "source": [
    "Podemos tentar simplificar com uma função:"
   ]
  },
  {
   "cell_type": "code",
   "execution_count": 5,
   "metadata": {},
   "outputs": [
    {
     "name": "stdout",
     "output_type": "stream",
     "text": [
      "Percentil 50 de duration_ms é 193683.0\n"
     ]
    }
   ],
   "source": [
    "def percentil(column=\"duration_ms\", p=50):\n",
    "    q = p / 100\n",
    "    print(f\"Percentil {p} de {column} é {df[column].quantile(q=q)}\")\n",
    "percentil(p=50)"
   ]
  },
  {
   "cell_type": "code",
   "execution_count": 6,
   "metadata": {},
   "outputs": [
    {
     "name": "stdout",
     "output_type": "stream",
     "text": [
      "Percentil 75 de duration_ms é 217098.25\n"
     ]
    }
   ],
   "source": [
    "percentil(p=75)"
   ]
  },
  {
   "cell_type": "markdown",
   "metadata": {
    "slideshow": {
     "slide_type": "fragment"
    },
    "tags": []
   },
   "source": [
    "Mas ainda não está muito interativo..."
   ]
  },
  {
   "cell_type": "markdown",
   "metadata": {
    "slideshow": {
     "slide_type": "slide"
    },
    "tags": []
   },
   "source": [
    "Para fazer isso de forma mais interativa, podemos usar o decorador `interact` do ipywidgets:"
   ]
  },
  {
   "cell_type": "code",
   "execution_count": 7,
   "metadata": {},
   "outputs": [
    {
     "data": {
      "application/vnd.jupyter.widget-view+json": {
       "model_id": "e5fe55775fa6467ea7843995e1700154",
       "version_major": 2,
       "version_minor": 0
      },
      "text/plain": [
       "interactive(children=(Text(value='duration_ms', description='column'), IntSlider(value=50, description='p', ma…"
      ]
     },
     "metadata": {},
     "output_type": "display_data"
    }
   ],
   "source": [
    "from ipywidgets import interact\n",
    "\n",
    "@interact\n",
    "def percentil(column=\"duration_ms\", p=50):\n",
    "    q = p / 100\n",
    "    print(f\"Percentil {p} de {column} é {df[column].quantile(q=q)}\")"
   ]
  },
  {
   "cell_type": "markdown",
   "metadata": {
    "slideshow": {
     "slide_type": "slide"
    },
    "tags": []
   },
   "source": [
    "Perceba que o decorador `@interact` criou uma interface automaticamente com base nos parâmetros da função.\n",
    "\n",
    "Mas essa criação automática permite o uso de p fora do domínio $[0, 100]$."
   ]
  },
  {
   "cell_type": "markdown",
   "metadata": {
    "slideshow": {
     "slide_type": "fragment"
    },
    "tags": []
   },
   "source": [
    "Podemos resolver isso passando e configurando um IntSlider como parâmetro:"
   ]
  },
  {
   "cell_type": "code",
   "execution_count": 8,
   "metadata": {},
   "outputs": [
    {
     "data": {
      "application/vnd.jupyter.widget-view+json": {
       "model_id": "d48fa8fa8ed94de390a52d3a969357d4",
       "version_major": 2,
       "version_minor": 0
      },
      "text/plain": [
       "interactive(children=(Text(value='duration_ms', description='column'), IntSlider(value=50, description='p'), O…"
      ]
     },
     "metadata": {},
     "output_type": "display_data"
    }
   ],
   "source": [
    "from ipywidgets import IntSlider\n",
    "\n",
    "@interact(p=IntSlider(value=50, min=0, max=100))\n",
    "def percentil(column=\"duration_ms\", p=50):\n",
    "    q = p / 100\n",
    "    print(f\"Percentil {p} de {column} é {df[column].quantile(q=q)}\")"
   ]
  },
  {
   "cell_type": "markdown",
   "metadata": {},
   "source": [
    " "
   ]
  },
  {
   "cell_type": "markdown",
   "metadata": {
    "slideshow": {
     "slide_type": "fragment"
    },
    "tags": []
   },
   "source": [
    "Com esse widget, podemos variar tanto o quantile desejado quanto a coluna desejada. Por exemplo, podemos escrever `num_artists` no lugar."
   ]
  },
  {
   "cell_type": "markdown",
   "metadata": {
    "slideshow": {
     "slide_type": "slide"
    },
    "tags": []
   },
   "source": [
    "Ao invés de `IntSlider`, poderíamos usar outro componente também. Por exemplo `ToggleButtons`:"
   ]
  },
  {
   "cell_type": "code",
   "execution_count": 9,
   "metadata": {},
   "outputs": [
    {
     "data": {
      "application/vnd.jupyter.widget-view+json": {
       "model_id": "e01f5f35ce034d42ad56f472f72dcfdb",
       "version_major": 2,
       "version_minor": 0
      },
      "text/plain": [
       "interactive(children=(Text(value='duration_ms', description='column'), ToggleButtons(description='p', options=…"
      ]
     },
     "metadata": {},
     "output_type": "display_data"
    }
   ],
   "source": [
    "from ipywidgets import ToggleButtons\n",
    "\n",
    "@interact(p=ToggleButtons(options=[0, 25, 50, 75, 100]))\n",
    "def percentil(column=\"duration_ms\", p=50):\n",
    "    q = p / 100\n",
    "    print(f\"Percentil {p} de {column} é {df[column].quantile(q=q)}\")"
   ]
  },
  {
   "cell_type": "markdown",
   "metadata": {
    "slideshow": {
     "slide_type": "slide"
    },
    "tags": []
   },
   "source": [
    "Existem diversos widgets disponíveis na biblioteca [ipywidgets](https://ipywidgets.readthedocs.io/en/latest/examples/Widget%20List.html) para diversos tipos de dados:\n",
    "\n",
    "- **Númericos**: IntSlider, FloatSlider, FloatLogSlider, IntRangeSlider, FloatRangeSlider, IntProgress, FloatProgress, BoundedIntText, BoundedFloatText, IntText, FloatText\n",
    "- **Booleanos**: ToggleButton, Checkbox, Valid\n",
    "- **Seleções**: Dropdown, RadioButtons, Select, SelectionSlider, SelectionRangeSlider, ToggleButtons, SelectMultiple\n",
    "- **Textos**: Text, Textarea, Combobox, Password, Label, HTML, HTMLMath\n",
    "- **Imagens**: Image\n",
    "- **Botões**: Button\n",
    "- **Saídas**: Output\n",
    "- **Animações**: Play\n",
    "- **Datas**: DatePicker, TimePicker, DatetimePicker\n",
    "- **Cores**: ColorPicker\n",
    "- **Arquivos**: FileUpload\n",
    "- **Controles de jogos**: Controller\n",
    "- **Containers/Layouts**: Box, HBox, VBox, GridBox, Accordion, Tab, Stacked"
   ]
  },
  {
   "cell_type": "markdown",
   "metadata": {
    "slideshow": {
     "slide_type": "slide"
    },
    "tags": []
   },
   "source": [
    "Em algumas situações, a execução do widget pode ser demorada e pode não ser desejável atualizar valores assim que a entrada mudar.\n",
    "\n",
    "O uso do decorador `interact_manual` adiciona um botão para executar a função do widget sob demanda."
   ]
  },
  {
   "cell_type": "code",
   "execution_count": 10,
   "metadata": {},
   "outputs": [],
   "source": [
    "from ipywidgets import interact_manual"
   ]
  },
  {
   "cell_type": "code",
   "execution_count": 11,
   "metadata": {},
   "outputs": [
    {
     "data": {
      "application/vnd.jupyter.widget-view+json": {
       "model_id": "08a13414a3294ab5a5eeb3ba810f4a46",
       "version_major": 2,
       "version_minor": 0
      },
      "text/plain": [
       "interactive(children=(Text(value='duration_ms', description='column'), IntSlider(value=50, description='p'), B…"
      ]
     },
     "metadata": {},
     "output_type": "display_data"
    }
   ],
   "source": [
    "@interact_manual(p=IntSlider(value=50, min=0, max=100))\n",
    "def percentil(column=\"duration_ms\", p=50):\n",
    "    q = p / 100\n",
    "    print(f\"Percentil {p} de {column} é {df[column].quantile(q=q)}\")"
   ]
  },
  {
   "cell_type": "markdown",
   "metadata": {},
   "source": [
    "  "
   ]
  },
  {
   "cell_type": "markdown",
   "metadata": {
    "slideshow": {
     "slide_type": "slide"
    },
    "tags": []
   },
   "source": [
    "# Fim da Parte 5. Jupyter avançado - Widget simples\n",
    "\n",
    "\n",
    "# ou começo de infinitas possibilidades!!!\n",
    "\n",
    "\n",
    "\n",
    "\n",
    "\n",
    "\n",
    "\n",
    "# Referências\n",
    "\n",
    "PIMENTEL, João Felipe et al. Ciência de dados com reprodutibilidade usando jupyter. Sociedade Brasileira de Computação, 2021.\n",
    "\n",
    "\n",
    "Didática Tech 2020 ©. Didática Tech Inteligência Artificial & Data Science, 2020. Curso de Python para Machine Learning e Ciência de Dados Gratuito. Disponível em: https://didatica.tech/curso-de-python-para-machine-learning-e-ciencia-de-dados-gratuito/ . Acesso em: 01.nov.2021."
   ]
  }
 ],
 "metadata": {
  "julynter-results": {
   "filteredId": [],
   "filteredIndividual": [],
   "filteredRestart": [],
   "filteredType": [],
   "hash": "9c3ce4e08ae78a9fd7fb4c30f00bff96413bce28",
   "visible": []
  },
  "kernelspec": {
   "display_name": "Python 3",
   "language": "python",
   "name": "python3"
  },
  "language_info": {
   "codemirror_mode": {
    "name": "ipython",
    "version": 3
   },
   "file_extension": ".py",
   "mimetype": "text/x-python",
   "name": "python",
   "nbconvert_exporter": "python",
   "pygments_lexer": "ipython3",
   "version": "3.8.8"
  }
 },
 "nbformat": 4,
 "nbformat_minor": 4
}
