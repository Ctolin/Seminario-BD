{
 "cells": [
  {
   "cell_type": "markdown",
   "id": "732854cc",
   "metadata": {},
   "source": [
    "# 3. Machine Learning: Exemplo 1"
   ]
  },
  {
   "cell_type": "markdown",
   "id": "5fb8f299",
   "metadata": {},
   "source": [
    "# Vidros"
   ]
  },
  {
   "cell_type": "markdown",
   "id": "96226b33",
   "metadata": {},
   "source": [
    "Base de dados: https://www.kaggle.com/uciml/glass"
   ]
  },
  {
   "cell_type": "markdown",
   "id": "69783185",
   "metadata": {},
   "source": [
    "## Descrição\n",
    "\n",
    "Conjunto de dados de identificação de vidro da UCI (UC Irvine Machine Learning Repository - https://archive.ics.uci.edu/ml/index.php). \n",
    "\n",
    "Contém 10 atributos, incluindo id. \n",
    "A resposta é do tipo vidro (6 valores discretos)\n",
    "\n",
    "### O conjunto de dados (características):\n",
    "\n",
    "Número de identificação: 1 a 214 (removido do arquivo CSV)\n",
    "RI: índice de refração\n",
    "Na: sódio (unidade de medida: porcentagem em peso no óxido correspondente, assim como os atributos 4-10)\n",
    "Mg: Magnésio\n",
    "Al: Alumínio\n",
    "Sim: silício\n",
    "K: Potássio\n",
    "Ca: Cálcio\n",
    "Ba: Bário\n",
    "Fe: Ferro\n",
    "Tipo de vidro: (atributo de classe)\n",
    "- 1 janela de edifício processado flutuante\n",
    "- 2 janelas de edifício não flutuante processado\n",
    "- 3 janelas de veículo flutuante processado\n",
    "- 4 contêineres\n",
    "- 5 talheres\n",
    "- 6 faróis\n",
    "\n",
    "\n",
    "### Referências\n",
    "\n",
    "Fonte de dados original: https://archive.ics.uci.edu/ml/datasets/Glass+Identification\n",
    "\n",
    "Criador:\n",
    "B. German\n",
    "Central Research Establishment\n",
    "Home Office Forensic Science Service\n",
    "Aldermaston, Reading, Berkshire RG7 4PN\n",
    "\n",
    "Doador:\n",
    "Vina Spiehler, Ph.D., DABFT\n",
    "Diagnostic Products Corporation\n",
    "(213) 776-0180 (ramal 3014)\n"
   ]
  },
  {
   "cell_type": "code",
   "execution_count": 17,
   "id": "52aeb1ae",
   "metadata": {},
   "outputs": [],
   "source": [
    "#Carregando o conjunto de dados\n",
    "\n",
    "import pandas as pd\n",
    "arquivo = pd.read_excel('C:/Users/camil/OneDrive/Área de Trabalho/seminário Python/glass.xlsx')"
   ]
  },
  {
   "cell_type": "code",
   "execution_count": 18,
   "id": "b335df6c",
   "metadata": {},
   "outputs": [
    {
     "data": {
      "text/plain": [
       "(214, 10)"
      ]
     },
     "execution_count": 18,
     "metadata": {},
     "output_type": "execute_result"
    }
   ],
   "source": [
    "arquivo.shape"
   ]
  },
  {
   "cell_type": "code",
   "execution_count": 19,
   "id": "3ca5bfbf",
   "metadata": {},
   "outputs": [
    {
     "data": {
      "text/html": [
       "<div>\n",
       "<style scoped>\n",
       "    .dataframe tbody tr th:only-of-type {\n",
       "        vertical-align: middle;\n",
       "    }\n",
       "\n",
       "    .dataframe tbody tr th {\n",
       "        vertical-align: top;\n",
       "    }\n",
       "\n",
       "    .dataframe thead th {\n",
       "        text-align: right;\n",
       "    }\n",
       "</style>\n",
       "<table border=\"1\" class=\"dataframe\">\n",
       "  <thead>\n",
       "    <tr style=\"text-align: right;\">\n",
       "      <th></th>\n",
       "      <th>RI</th>\n",
       "      <th>Na</th>\n",
       "      <th>Mg</th>\n",
       "      <th>Al</th>\n",
       "      <th>Si</th>\n",
       "      <th>K</th>\n",
       "      <th>Ca</th>\n",
       "      <th>Ba</th>\n",
       "      <th>Fe</th>\n",
       "      <th>Type</th>\n",
       "    </tr>\n",
       "  </thead>\n",
       "  <tbody>\n",
       "    <tr>\n",
       "      <th>0</th>\n",
       "      <td>152101</td>\n",
       "      <td>13.64</td>\n",
       "      <td>4.49</td>\n",
       "      <td>1.10</td>\n",
       "      <td>71.78</td>\n",
       "      <td>0.06</td>\n",
       "      <td>8.75</td>\n",
       "      <td>0.0</td>\n",
       "      <td>0.0</td>\n",
       "      <td>janela de edifício processado flutuante</td>\n",
       "    </tr>\n",
       "    <tr>\n",
       "      <th>1</th>\n",
       "      <td>151761</td>\n",
       "      <td>13.89</td>\n",
       "      <td>3.60</td>\n",
       "      <td>1.36</td>\n",
       "      <td>72.73</td>\n",
       "      <td>0.48</td>\n",
       "      <td>7.83</td>\n",
       "      <td>0.0</td>\n",
       "      <td>0.0</td>\n",
       "      <td>janela de edifício processado flutuante</td>\n",
       "    </tr>\n",
       "    <tr>\n",
       "      <th>2</th>\n",
       "      <td>151618</td>\n",
       "      <td>13.53</td>\n",
       "      <td>3.55</td>\n",
       "      <td>1.54</td>\n",
       "      <td>72.99</td>\n",
       "      <td>0.39</td>\n",
       "      <td>7.78</td>\n",
       "      <td>0.0</td>\n",
       "      <td>0.0</td>\n",
       "      <td>janela de edifício processado flutuante</td>\n",
       "    </tr>\n",
       "    <tr>\n",
       "      <th>3</th>\n",
       "      <td>151766</td>\n",
       "      <td>13.21</td>\n",
       "      <td>3.69</td>\n",
       "      <td>1.29</td>\n",
       "      <td>72.61</td>\n",
       "      <td>0.57</td>\n",
       "      <td>8.22</td>\n",
       "      <td>0.0</td>\n",
       "      <td>0.0</td>\n",
       "      <td>janela de edifício processado flutuante</td>\n",
       "    </tr>\n",
       "    <tr>\n",
       "      <th>4</th>\n",
       "      <td>151742</td>\n",
       "      <td>13.27</td>\n",
       "      <td>3.62</td>\n",
       "      <td>1.24</td>\n",
       "      <td>73.08</td>\n",
       "      <td>0.55</td>\n",
       "      <td>8.07</td>\n",
       "      <td>0.0</td>\n",
       "      <td>0.0</td>\n",
       "      <td>janela de edifício processado flutuante</td>\n",
       "    </tr>\n",
       "  </tbody>\n",
       "</table>\n",
       "</div>"
      ],
      "text/plain": [
       "       RI     Na    Mg    Al     Si     K    Ca   Ba   Fe  \\\n",
       "0  152101  13.64  4.49  1.10  71.78  0.06  8.75  0.0  0.0   \n",
       "1  151761  13.89  3.60  1.36  72.73  0.48  7.83  0.0  0.0   \n",
       "2  151618  13.53  3.55  1.54  72.99  0.39  7.78  0.0  0.0   \n",
       "3  151766  13.21  3.69  1.29  72.61  0.57  8.22  0.0  0.0   \n",
       "4  151742  13.27  3.62  1.24  73.08  0.55  8.07  0.0  0.0   \n",
       "\n",
       "                                      Type  \n",
       "0  janela de edifício processado flutuante  \n",
       "1  janela de edifício processado flutuante  \n",
       "2  janela de edifício processado flutuante  \n",
       "3  janela de edifício processado flutuante  \n",
       "4  janela de edifício processado flutuante  "
      ]
     },
     "execution_count": 19,
     "metadata": {},
     "output_type": "execute_result"
    }
   ],
   "source": [
    "arquivo.head()"
   ]
  },
  {
   "cell_type": "code",
   "execution_count": 20,
   "id": "1a382667",
   "metadata": {},
   "outputs": [],
   "source": [
    "arquivo['Type'] = arquivo['Type'].replace('janela de edifício processado flutuante',1)"
   ]
  },
  {
   "cell_type": "code",
   "execution_count": 21,
   "id": "ed29bb21",
   "metadata": {},
   "outputs": [],
   "source": [
    "arquivo['Type'] = arquivo['Type'].replace('janelas de edifício não flutuante processado',2)"
   ]
  },
  {
   "cell_type": "code",
   "execution_count": 22,
   "id": "30ad16d6",
   "metadata": {},
   "outputs": [],
   "source": [
    "arquivo['Type'] = arquivo['Type'].replace('janelas de veículo flutuante processado',3)"
   ]
  },
  {
   "cell_type": "code",
   "execution_count": 23,
   "id": "08a268dd",
   "metadata": {},
   "outputs": [],
   "source": [
    "arquivo['Type'] = arquivo['Type'].replace('contêineres',4)"
   ]
  },
  {
   "cell_type": "code",
   "execution_count": 24,
   "id": "ee01e807",
   "metadata": {},
   "outputs": [],
   "source": [
    "arquivo['Type'] = arquivo['Type'].replace('talheres',5)"
   ]
  },
  {
   "cell_type": "code",
   "execution_count": 25,
   "id": "7875244f",
   "metadata": {},
   "outputs": [],
   "source": [
    "arquivo['Type'] = arquivo['Type'].replace('faróis',6)"
   ]
  },
  {
   "cell_type": "code",
   "execution_count": 26,
   "id": "103fa87b",
   "metadata": {},
   "outputs": [
    {
     "data": {
      "text/html": [
       "<div>\n",
       "<style scoped>\n",
       "    .dataframe tbody tr th:only-of-type {\n",
       "        vertical-align: middle;\n",
       "    }\n",
       "\n",
       "    .dataframe tbody tr th {\n",
       "        vertical-align: top;\n",
       "    }\n",
       "\n",
       "    .dataframe thead th {\n",
       "        text-align: right;\n",
       "    }\n",
       "</style>\n",
       "<table border=\"1\" class=\"dataframe\">\n",
       "  <thead>\n",
       "    <tr style=\"text-align: right;\">\n",
       "      <th></th>\n",
       "      <th>RI</th>\n",
       "      <th>Na</th>\n",
       "      <th>Mg</th>\n",
       "      <th>Al</th>\n",
       "      <th>Si</th>\n",
       "      <th>K</th>\n",
       "      <th>Ca</th>\n",
       "      <th>Ba</th>\n",
       "      <th>Fe</th>\n",
       "      <th>Type</th>\n",
       "    </tr>\n",
       "  </thead>\n",
       "  <tbody>\n",
       "    <tr>\n",
       "      <th>0</th>\n",
       "      <td>152101</td>\n",
       "      <td>13.64</td>\n",
       "      <td>4.49</td>\n",
       "      <td>1.10</td>\n",
       "      <td>71.78</td>\n",
       "      <td>0.06</td>\n",
       "      <td>8.75</td>\n",
       "      <td>0.0</td>\n",
       "      <td>0.00</td>\n",
       "      <td>1</td>\n",
       "    </tr>\n",
       "    <tr>\n",
       "      <th>1</th>\n",
       "      <td>151761</td>\n",
       "      <td>13.89</td>\n",
       "      <td>3.60</td>\n",
       "      <td>1.36</td>\n",
       "      <td>72.73</td>\n",
       "      <td>0.48</td>\n",
       "      <td>7.83</td>\n",
       "      <td>0.0</td>\n",
       "      <td>0.00</td>\n",
       "      <td>1</td>\n",
       "    </tr>\n",
       "    <tr>\n",
       "      <th>2</th>\n",
       "      <td>151618</td>\n",
       "      <td>13.53</td>\n",
       "      <td>3.55</td>\n",
       "      <td>1.54</td>\n",
       "      <td>72.99</td>\n",
       "      <td>0.39</td>\n",
       "      <td>7.78</td>\n",
       "      <td>0.0</td>\n",
       "      <td>0.00</td>\n",
       "      <td>1</td>\n",
       "    </tr>\n",
       "    <tr>\n",
       "      <th>3</th>\n",
       "      <td>151766</td>\n",
       "      <td>13.21</td>\n",
       "      <td>3.69</td>\n",
       "      <td>1.29</td>\n",
       "      <td>72.61</td>\n",
       "      <td>0.57</td>\n",
       "      <td>8.22</td>\n",
       "      <td>0.0</td>\n",
       "      <td>0.00</td>\n",
       "      <td>1</td>\n",
       "    </tr>\n",
       "    <tr>\n",
       "      <th>4</th>\n",
       "      <td>151742</td>\n",
       "      <td>13.27</td>\n",
       "      <td>3.62</td>\n",
       "      <td>1.24</td>\n",
       "      <td>73.08</td>\n",
       "      <td>0.55</td>\n",
       "      <td>8.07</td>\n",
       "      <td>0.0</td>\n",
       "      <td>0.00</td>\n",
       "      <td>1</td>\n",
       "    </tr>\n",
       "    <tr>\n",
       "      <th>...</th>\n",
       "      <td>...</td>\n",
       "      <td>...</td>\n",
       "      <td>...</td>\n",
       "      <td>...</td>\n",
       "      <td>...</td>\n",
       "      <td>...</td>\n",
       "      <td>...</td>\n",
       "      <td>...</td>\n",
       "      <td>...</td>\n",
       "      <td>...</td>\n",
       "    </tr>\n",
       "    <tr>\n",
       "      <th>145</th>\n",
       "      <td>151839</td>\n",
       "      <td>12.85</td>\n",
       "      <td>3.67</td>\n",
       "      <td>1.24</td>\n",
       "      <td>72.57</td>\n",
       "      <td>0.62</td>\n",
       "      <td>8.68</td>\n",
       "      <td>0.0</td>\n",
       "      <td>0.35</td>\n",
       "      <td>2</td>\n",
       "    </tr>\n",
       "    <tr>\n",
       "      <th>146</th>\n",
       "      <td>151769</td>\n",
       "      <td>13.65</td>\n",
       "      <td>3.66</td>\n",
       "      <td>1.11</td>\n",
       "      <td>72.77</td>\n",
       "      <td>0.11</td>\n",
       "      <td>8.60</td>\n",
       "      <td>0.0</td>\n",
       "      <td>0.00</td>\n",
       "      <td>3</td>\n",
       "    </tr>\n",
       "    <tr>\n",
       "      <th>147</th>\n",
       "      <td>15161</td>\n",
       "      <td>13.33</td>\n",
       "      <td>3.53</td>\n",
       "      <td>1.34</td>\n",
       "      <td>72.67</td>\n",
       "      <td>0.56</td>\n",
       "      <td>8.33</td>\n",
       "      <td>0.0</td>\n",
       "      <td>0.00</td>\n",
       "      <td>3</td>\n",
       "    </tr>\n",
       "    <tr>\n",
       "      <th>148</th>\n",
       "      <td>15167</td>\n",
       "      <td>13.24</td>\n",
       "      <td>3.57</td>\n",
       "      <td>1.38</td>\n",
       "      <td>72.70</td>\n",
       "      <td>0.56</td>\n",
       "      <td>8.44</td>\n",
       "      <td>0.0</td>\n",
       "      <td>0.10</td>\n",
       "      <td>3</td>\n",
       "    </tr>\n",
       "    <tr>\n",
       "      <th>149</th>\n",
       "      <td>151643</td>\n",
       "      <td>12.16</td>\n",
       "      <td>3.52</td>\n",
       "      <td>1.35</td>\n",
       "      <td>72.89</td>\n",
       "      <td>0.57</td>\n",
       "      <td>8.53</td>\n",
       "      <td>0.0</td>\n",
       "      <td>0.00</td>\n",
       "      <td>3</td>\n",
       "    </tr>\n",
       "  </tbody>\n",
       "</table>\n",
       "<p>150 rows × 10 columns</p>\n",
       "</div>"
      ],
      "text/plain": [
       "         RI     Na    Mg    Al     Si     K    Ca   Ba    Fe  Type\n",
       "0    152101  13.64  4.49  1.10  71.78  0.06  8.75  0.0  0.00     1\n",
       "1    151761  13.89  3.60  1.36  72.73  0.48  7.83  0.0  0.00     1\n",
       "2    151618  13.53  3.55  1.54  72.99  0.39  7.78  0.0  0.00     1\n",
       "3    151766  13.21  3.69  1.29  72.61  0.57  8.22  0.0  0.00     1\n",
       "4    151742  13.27  3.62  1.24  73.08  0.55  8.07  0.0  0.00     1\n",
       "..      ...    ...   ...   ...    ...   ...   ...  ...   ...   ...\n",
       "145  151839  12.85  3.67  1.24  72.57  0.62  8.68  0.0  0.35     2\n",
       "146  151769  13.65  3.66  1.11  72.77  0.11  8.60  0.0  0.00     3\n",
       "147   15161  13.33  3.53  1.34  72.67  0.56  8.33  0.0  0.00     3\n",
       "148   15167  13.24  3.57  1.38  72.70  0.56  8.44  0.0  0.10     3\n",
       "149  151643  12.16  3.52  1.35  72.89  0.57  8.53  0.0  0.00     3\n",
       "\n",
       "[150 rows x 10 columns]"
      ]
     },
     "execution_count": 26,
     "metadata": {},
     "output_type": "execute_result"
    }
   ],
   "source": [
    "arquivo.head(150)"
   ]
  },
  {
   "cell_type": "code",
   "execution_count": 27,
   "id": "b741a2ed",
   "metadata": {},
   "outputs": [],
   "source": [
    "#Separando as variáreis preditoras e variável alvo\n",
    "y = arquivo['Type']\n",
    "x = arquivo.drop('Type', axis = 1)"
   ]
  },
  {
   "cell_type": "code",
   "execution_count": 28,
   "id": "1427aaf6",
   "metadata": {},
   "outputs": [],
   "source": [
    "from sklearn.model_selection import train_test_split\n",
    "\n",
    "#criando os conjuntos de dados de treino e teste:\n",
    "x_treino, x_teste, y_treino, y_teste =  train_test_split(x, y, test_size = 0.2)"
   ]
  },
  {
   "cell_type": "code",
   "execution_count": 29,
   "id": "22c43b2e",
   "metadata": {},
   "outputs": [
    {
     "name": "stdout",
     "output_type": "stream",
     "text": [
      "Acurácia: 0.813953488372093\n"
     ]
    }
   ],
   "source": [
    "from sklearn.ensemble import ExtraTreesClassifier\n",
    "#Criação do modelo:\n",
    "modelo = ExtraTreesClassifier()\n",
    "modelo.fit(x_treino, y_treino)\n",
    "\n",
    "#Imprimindo resultados:\n",
    "resultado = modelo.score(x_teste, y_teste)\n",
    "print('Acurácia:', resultado)\n"
   ]
  },
  {
   "cell_type": "code",
   "execution_count": 30,
   "id": "13724c75",
   "metadata": {},
   "outputs": [
    {
     "data": {
      "text/plain": [
       "26     1\n",
       "206    6\n",
       "65     1\n",
       "Name: Type, dtype: int64"
      ]
     },
     "execution_count": 30,
     "metadata": {},
     "output_type": "execute_result"
    }
   ],
   "source": [
    "y_teste[40:204]"
   ]
  },
  {
   "cell_type": "code",
   "execution_count": 31,
   "id": "0bb89cf0",
   "metadata": {},
   "outputs": [
    {
     "data": {
      "text/html": [
       "<div>\n",
       "<style scoped>\n",
       "    .dataframe tbody tr th:only-of-type {\n",
       "        vertical-align: middle;\n",
       "    }\n",
       "\n",
       "    .dataframe tbody tr th {\n",
       "        vertical-align: top;\n",
       "    }\n",
       "\n",
       "    .dataframe thead th {\n",
       "        text-align: right;\n",
       "    }\n",
       "</style>\n",
       "<table border=\"1\" class=\"dataframe\">\n",
       "  <thead>\n",
       "    <tr style=\"text-align: right;\">\n",
       "      <th></th>\n",
       "      <th>RI</th>\n",
       "      <th>Na</th>\n",
       "      <th>Mg</th>\n",
       "      <th>Al</th>\n",
       "      <th>Si</th>\n",
       "      <th>K</th>\n",
       "      <th>Ca</th>\n",
       "      <th>Ba</th>\n",
       "      <th>Fe</th>\n",
       "    </tr>\n",
       "  </thead>\n",
       "  <tbody>\n",
       "    <tr>\n",
       "      <th>26</th>\n",
       "      <td>151793</td>\n",
       "      <td>13.21</td>\n",
       "      <td>3.48</td>\n",
       "      <td>1.41</td>\n",
       "      <td>72.64</td>\n",
       "      <td>0.59</td>\n",
       "      <td>8.43</td>\n",
       "      <td>0.00</td>\n",
       "      <td>0.0</td>\n",
       "    </tr>\n",
       "    <tr>\n",
       "      <th>206</th>\n",
       "      <td>151645</td>\n",
       "      <td>14.94</td>\n",
       "      <td>0.00</td>\n",
       "      <td>1.87</td>\n",
       "      <td>73.11</td>\n",
       "      <td>0.00</td>\n",
       "      <td>8.67</td>\n",
       "      <td>1.38</td>\n",
       "      <td>0.0</td>\n",
       "    </tr>\n",
       "    <tr>\n",
       "      <th>65</th>\n",
       "      <td>152099</td>\n",
       "      <td>13.69</td>\n",
       "      <td>3.59</td>\n",
       "      <td>1.12</td>\n",
       "      <td>71.96</td>\n",
       "      <td>0.09</td>\n",
       "      <td>9.40</td>\n",
       "      <td>0.00</td>\n",
       "      <td>0.0</td>\n",
       "    </tr>\n",
       "  </tbody>\n",
       "</table>\n",
       "</div>"
      ],
      "text/plain": [
       "         RI     Na    Mg    Al     Si     K    Ca    Ba   Fe\n",
       "26   151793  13.21  3.48  1.41  72.64  0.59  8.43  0.00  0.0\n",
       "206  151645  14.94  0.00  1.87  73.11  0.00  8.67  1.38  0.0\n",
       "65   152099  13.69  3.59  1.12  71.96  0.09  9.40  0.00  0.0"
      ]
     },
     "execution_count": 31,
     "metadata": {},
     "output_type": "execute_result"
    }
   ],
   "source": [
    "x_teste[40:204]"
   ]
  },
  {
   "cell_type": "code",
   "execution_count": 32,
   "id": "e618ff3a",
   "metadata": {},
   "outputs": [
    {
     "data": {
      "text/plain": [
       "array([1, 6, 1], dtype=int64)"
      ]
     },
     "execution_count": 32,
     "metadata": {},
     "output_type": "execute_result"
    }
   ],
   "source": [
    "previsoes = modelo.predict(x_teste[40:204])\n",
    "previsoes"
   ]
  },
  {
   "cell_type": "markdown",
   "id": "56bc138d",
   "metadata": {},
   "source": [
    "## Fim da Parte 3. Machine Learning Exemplo_1\n",
    "\n",
    "Para efetuar um comparativo, o próximo notebook será a **Parte 4. Machine Learning Exemplo_2**."
   ]
  }
 ],
 "metadata": {
  "kernelspec": {
   "display_name": "Python 3",
   "language": "python",
   "name": "python3"
  },
  "language_info": {
   "codemirror_mode": {
    "name": "ipython",
    "version": 3
   },
   "file_extension": ".py",
   "mimetype": "text/x-python",
   "name": "python",
   "nbconvert_exporter": "python",
   "pygments_lexer": "ipython3",
   "version": "3.8.8"
  }
 },
 "nbformat": 4,
 "nbformat_minor": 5
}
