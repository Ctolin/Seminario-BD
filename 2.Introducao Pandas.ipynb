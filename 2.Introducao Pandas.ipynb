{
 "cells": [
  {
   "cell_type": "markdown",
   "metadata": {},
   "source": [
    "# 2. Introdução ao Pandas"
   ]
  },
  {
   "cell_type": "markdown",
   "metadata": {},
   "source": [
    "## Importando a Biblioteca Pandas\n",
    "\n",
    "O pandas é uma ferramenta de análise e manipulação de dados de código aberto rápida, poderosa, flexível e fácil de usar,\n",
    "construída sobre a linguagem de programação Python .\n",
    "\n",
    "https://pandas.pydata.org/\n"
   ]
  },
  {
   "cell_type": "code",
   "execution_count": 1,
   "metadata": {},
   "outputs": [],
   "source": [
    "import pandas as pd"
   ]
  },
  {
   "cell_type": "markdown",
   "metadata": {},
   "source": [
    "## Criando Series"
   ]
  },
  {
   "cell_type": "code",
   "execution_count": 2,
   "metadata": {
    "scrolled": true
   },
   "outputs": [
    {
     "data": {
      "text/plain": [
       "0    Diego  Alecsander\n",
       "1               Giulia\n",
       "2              Willian\n",
       "3             Leonardo\n",
       "4              Rodrigo\n",
       "5           João Pedro\n",
       "6        Flavia  Luize\n",
       "7      Thales Vinicius\n",
       "dtype: object"
      ]
     },
     "execution_count": 2,
     "metadata": {},
     "output_type": "execute_result"
    }
   ],
   "source": [
    "# Criando uma Série formada por nomes de alunos\n",
    "# https://pandas.pydata.org/pandas-docs/stable/reference/api/pandas.Series.html\n",
    "\n",
    "alunos_1 = pd.Series(['Diego  Alecsander', 'Giulia', 'Willian', 'Leonardo', 'Rodrigo', 'João Pedro', 'Flavia  Luize', 'Thales Vinicius'])\n",
    "alunos_1"
   ]
  },
  {
   "cell_type": "code",
   "execution_count": 3,
   "metadata": {},
   "outputs": [
    {
     "data": {
      "text/plain": [
       "'Willian'"
      ]
     },
     "execution_count": 3,
     "metadata": {},
     "output_type": "execute_result"
    }
   ],
   "source": [
    "# Acessando um valor com índice de posição\n",
    "\n",
    "alunos_1[2]"
   ]
  },
  {
   "cell_type": "code",
   "execution_count": 4,
   "metadata": {},
   "outputs": [
    {
     "data": {
      "text/plain": [
       "Mestrando     Diego  Alecsander\n",
       "Doutorando               Giulia\n",
       "Mestrando               Willian\n",
       "Mestrando              Leonardo\n",
       "Doutorando              Rodrigo\n",
       "Mestrando            João Pedro\n",
       "Mestrando         Flavia  Luize\n",
       "Mestrando       Thales Vinicius\n",
       "dtype: object"
      ]
     },
     "execution_count": 4,
     "metadata": {},
     "output_type": "execute_result"
    }
   ],
   "source": [
    "# Criando uma Série formada por nomes de alunos\n",
    "# Especificando os índices para cada tipo: mestrando ou doutorando\n",
    "\n",
    "alunos_2 = pd.Series(['Diego  Alecsander', 'Giulia', 'Willian', 'Leonardo', 'Rodrigo', 'João Pedro', 'Flavia  Luize', 'Thales Vinicius'],\n",
    "                     index=['Mestrando', 'Doutorando', 'Mestrando', 'Mestrando', 'Doutorando', 'Mestrando', 'Mestrando', 'Mestrando'])\n",
    "alunos_2"
   ]
  },
  {
   "cell_type": "code",
   "execution_count": 5,
   "metadata": {},
   "outputs": [
    {
     "data": {
      "text/plain": [
       "Mestrando    Diego  Alecsander\n",
       "Mestrando              Willian\n",
       "Mestrando             Leonardo\n",
       "Mestrando           João Pedro\n",
       "Mestrando        Flavia  Luize\n",
       "Mestrando      Thales Vinicius\n",
       "dtype: object"
      ]
     },
     "execution_count": 5,
     "metadata": {},
     "output_type": "execute_result"
    }
   ],
   "source": [
    "# Como utilizamos índices não exclusivos, \n",
    "# para acessar os valores de todos os 'mestrando' contidos na série:\n",
    "\n",
    "alunos_2['Mestrando']"
   ]
  },
  {
   "cell_type": "markdown",
   "metadata": {},
   "source": [
    "## Criando Dataframes"
   ]
  },
  {
   "cell_type": "code",
   "execution_count": 6,
   "metadata": {},
   "outputs": [
    {
     "data": {
      "text/html": [
       "<div>\n",
       "<style scoped>\n",
       "    .dataframe tbody tr th:only-of-type {\n",
       "        vertical-align: middle;\n",
       "    }\n",
       "\n",
       "    .dataframe tbody tr th {\n",
       "        vertical-align: top;\n",
       "    }\n",
       "\n",
       "    .dataframe thead th {\n",
       "        text-align: right;\n",
       "    }\n",
       "</style>\n",
       "<table border=\"1\" class=\"dataframe\">\n",
       "  <thead>\n",
       "    <tr style=\"text-align: right;\">\n",
       "      <th></th>\n",
       "      <th>0</th>\n",
       "      <th>1</th>\n",
       "    </tr>\n",
       "  </thead>\n",
       "  <tbody>\n",
       "    <tr>\n",
       "      <th>0</th>\n",
       "      <td>Diego  Alecsander</td>\n",
       "      <td>Mestrando</td>\n",
       "    </tr>\n",
       "    <tr>\n",
       "      <th>1</th>\n",
       "      <td>Giulia</td>\n",
       "      <td>Doutorando</td>\n",
       "    </tr>\n",
       "    <tr>\n",
       "      <th>2</th>\n",
       "      <td>Willian</td>\n",
       "      <td>Mestrando</td>\n",
       "    </tr>\n",
       "    <tr>\n",
       "      <th>3</th>\n",
       "      <td>Leonardo</td>\n",
       "      <td>Mestrando</td>\n",
       "    </tr>\n",
       "    <tr>\n",
       "      <th>4</th>\n",
       "      <td>Rodrigo</td>\n",
       "      <td>Doutorando</td>\n",
       "    </tr>\n",
       "    <tr>\n",
       "      <th>5</th>\n",
       "      <td>João Pedro</td>\n",
       "      <td>Mestrando</td>\n",
       "    </tr>\n",
       "    <tr>\n",
       "      <th>6</th>\n",
       "      <td>Flavia  Luize</td>\n",
       "      <td>Mestrando</td>\n",
       "    </tr>\n",
       "    <tr>\n",
       "      <th>7</th>\n",
       "      <td>Thales Vinicius</td>\n",
       "      <td>Mestrando</td>\n",
       "    </tr>\n",
       "  </tbody>\n",
       "</table>\n",
       "</div>"
      ],
      "text/plain": [
       "                   0           1\n",
       "0  Diego  Alecsander   Mestrando\n",
       "1             Giulia  Doutorando\n",
       "2            Willian   Mestrando\n",
       "3           Leonardo   Mestrando\n",
       "4            Rodrigo  Doutorando\n",
       "5         João Pedro   Mestrando\n",
       "6      Flavia  Luize   Mestrando\n",
       "7    Thales Vinicius   Mestrando"
      ]
     },
     "execution_count": 6,
     "metadata": {},
     "output_type": "execute_result"
    }
   ],
   "source": [
    "# Construindo um dataframe a partir de uma lista de elementos\n",
    "\n",
    "df = pd.DataFrame([['Diego  Alecsander', 'Mestrando'],['Giulia', 'Doutorando'], ['Willian', 'Mestrando'], ['Leonardo', 'Mestrando'], ['Rodrigo', 'Doutorando'], ['João Pedro', 'Mestrando'], ['Flavia  Luize', 'Mestrando'], ['Thales Vinicius', 'Mestrando']])\n",
    "df"
   ]
  },
  {
   "cell_type": "code",
   "execution_count": 7,
   "metadata": {},
   "outputs": [
    {
     "data": {
      "text/html": [
       "<div>\n",
       "<style scoped>\n",
       "    .dataframe tbody tr th:only-of-type {\n",
       "        vertical-align: middle;\n",
       "    }\n",
       "\n",
       "    .dataframe tbody tr th {\n",
       "        vertical-align: top;\n",
       "    }\n",
       "\n",
       "    .dataframe thead th {\n",
       "        text-align: right;\n",
       "    }\n",
       "</style>\n",
       "<table border=\"1\" class=\"dataframe\">\n",
       "  <thead>\n",
       "    <tr style=\"text-align: right;\">\n",
       "      <th></th>\n",
       "      <th>Alunos</th>\n",
       "      <th>Situação</th>\n",
       "    </tr>\n",
       "  </thead>\n",
       "  <tbody>\n",
       "    <tr>\n",
       "      <th>0</th>\n",
       "      <td>Diego  Alecsander</td>\n",
       "      <td>Mestrando</td>\n",
       "    </tr>\n",
       "    <tr>\n",
       "      <th>1</th>\n",
       "      <td>Giulia</td>\n",
       "      <td>Doutorando</td>\n",
       "    </tr>\n",
       "    <tr>\n",
       "      <th>2</th>\n",
       "      <td>Willian</td>\n",
       "      <td>Mestrando</td>\n",
       "    </tr>\n",
       "    <tr>\n",
       "      <th>3</th>\n",
       "      <td>Leonardo</td>\n",
       "      <td>Mestrando</td>\n",
       "    </tr>\n",
       "    <tr>\n",
       "      <th>4</th>\n",
       "      <td>Rodrigo</td>\n",
       "      <td>Doutorando</td>\n",
       "    </tr>\n",
       "    <tr>\n",
       "      <th>5</th>\n",
       "      <td>João Pedro</td>\n",
       "      <td>Mestrando</td>\n",
       "    </tr>\n",
       "    <tr>\n",
       "      <th>6</th>\n",
       "      <td>Flavia  Luize</td>\n",
       "      <td>Mestrando</td>\n",
       "    </tr>\n",
       "    <tr>\n",
       "      <th>7</th>\n",
       "      <td>Thales Vinicius</td>\n",
       "      <td>Mestrando</td>\n",
       "    </tr>\n",
       "  </tbody>\n",
       "</table>\n",
       "</div>"
      ],
      "text/plain": [
       "              Alunos    Situação\n",
       "0  Diego  Alecsander   Mestrando\n",
       "1             Giulia  Doutorando\n",
       "2            Willian   Mestrando\n",
       "3           Leonardo   Mestrando\n",
       "4            Rodrigo  Doutorando\n",
       "5         João Pedro   Mestrando\n",
       "6      Flavia  Luize   Mestrando\n",
       "7    Thales Vinicius   Mestrando"
      ]
     },
     "execution_count": 7,
     "metadata": {},
     "output_type": "execute_result"
    }
   ],
   "source": [
    "# Construindo um dataframe a partir de um dicionário\n",
    "\n",
    "data = {'Alunos': ['Diego  Alecsander', 'Giulia', 'Willian', 'Leonardo', 'Rodrigo', 'João Pedro', 'Flavia  Luize', 'Thales Vinicius'], 'Situação': ['Mestrando', 'Doutorando', 'Mestrando', 'Mestrando', 'Doutorando', 'Mestrando', 'Mestrando', 'Mestrando']}\n",
    "df = pd.DataFrame(data)\n",
    "df"
   ]
  },
  {
   "cell_type": "markdown",
   "metadata": {},
   "source": [
    "## Manipulando Series e Dataframes"
   ]
  },
  {
   "cell_type": "markdown",
   "metadata": {},
   "source": [
    "### Manipulando estruturas"
   ]
  },
  {
   "cell_type": "code",
   "execution_count": 8,
   "metadata": {},
   "outputs": [
    {
     "data": {
      "text/plain": [
       "0    Diego  Alecsander\n",
       "1               Giulia\n",
       "2              Willian\n",
       "4              Rodrigo\n",
       "5           João Pedro\n",
       "6        Flavia  Luize\n",
       "7      Thales Vinicius\n",
       "dtype: object"
      ]
     },
     "execution_count": 8,
     "metadata": {},
     "output_type": "execute_result"
    }
   ],
   "source": [
    "# Removendo linhas de uma Serie\n",
    "# Para remover, basta especificar o índice que deseja remover\n",
    "# Seja o índice numérico ou textual\n",
    "\n",
    "alunos_1.drop([3])"
   ]
  },
  {
   "cell_type": "code",
   "execution_count": 9,
   "metadata": {},
   "outputs": [
    {
     "data": {
      "text/html": [
       "<div>\n",
       "<style scoped>\n",
       "    .dataframe tbody tr th:only-of-type {\n",
       "        vertical-align: middle;\n",
       "    }\n",
       "\n",
       "    .dataframe tbody tr th {\n",
       "        vertical-align: top;\n",
       "    }\n",
       "\n",
       "    .dataframe thead th {\n",
       "        text-align: right;\n",
       "    }\n",
       "</style>\n",
       "<table border=\"1\" class=\"dataframe\">\n",
       "  <thead>\n",
       "    <tr style=\"text-align: right;\">\n",
       "      <th></th>\n",
       "      <th>Alunos</th>\n",
       "      <th>Situação</th>\n",
       "      <th>Tipo de matrícula</th>\n",
       "    </tr>\n",
       "  </thead>\n",
       "  <tbody>\n",
       "    <tr>\n",
       "      <th>0</th>\n",
       "      <td>Diego  Alecsander</td>\n",
       "      <td>Mestrando</td>\n",
       "      <td>Especial</td>\n",
       "    </tr>\n",
       "    <tr>\n",
       "      <th>1</th>\n",
       "      <td>Giulia</td>\n",
       "      <td>Doutorando</td>\n",
       "      <td>Regular</td>\n",
       "    </tr>\n",
       "    <tr>\n",
       "      <th>2</th>\n",
       "      <td>Willian</td>\n",
       "      <td>Mestrando</td>\n",
       "      <td>Especial</td>\n",
       "    </tr>\n",
       "    <tr>\n",
       "      <th>3</th>\n",
       "      <td>Leonardo</td>\n",
       "      <td>Mestrando</td>\n",
       "      <td>Especial</td>\n",
       "    </tr>\n",
       "    <tr>\n",
       "      <th>4</th>\n",
       "      <td>Rodrigo</td>\n",
       "      <td>Doutorando</td>\n",
       "      <td>Regular</td>\n",
       "    </tr>\n",
       "    <tr>\n",
       "      <th>5</th>\n",
       "      <td>João Pedro</td>\n",
       "      <td>Mestrando</td>\n",
       "      <td>Especial</td>\n",
       "    </tr>\n",
       "    <tr>\n",
       "      <th>6</th>\n",
       "      <td>Flavia  Luize</td>\n",
       "      <td>Mestrando</td>\n",
       "      <td>Especial</td>\n",
       "    </tr>\n",
       "    <tr>\n",
       "      <th>7</th>\n",
       "      <td>Thales Vinicius</td>\n",
       "      <td>Mestrando</td>\n",
       "      <td>Especial</td>\n",
       "    </tr>\n",
       "  </tbody>\n",
       "</table>\n",
       "</div>"
      ],
      "text/plain": [
       "              Alunos    Situação Tipo de matrícula\n",
       "0  Diego  Alecsander   Mestrando          Especial\n",
       "1             Giulia  Doutorando           Regular\n",
       "2            Willian   Mestrando          Especial\n",
       "3           Leonardo   Mestrando          Especial\n",
       "4            Rodrigo  Doutorando           Regular\n",
       "5         João Pedro   Mestrando          Especial\n",
       "6      Flavia  Luize   Mestrando          Especial\n",
       "7    Thales Vinicius   Mestrando          Especial"
      ]
     },
     "execution_count": 9,
     "metadata": {},
     "output_type": "execute_result"
    }
   ],
   "source": [
    "# Adicionando nova coluna no dataframe\n",
    "\n",
    "data = {'Alunos': ['Diego  Alecsander', 'Giulia', 'Willian', 'Leonardo', 'Rodrigo', 'João Pedro', 'Flavia  Luize', 'Thales Vinicius'], 'Situação': ['Mestrando', 'Doutorando', 'Mestrando', 'Mestrando', 'Doutorando', 'Mestrando', 'Mestrando', 'Mestrando']}\n",
    "df = pd.DataFrame(data)\n",
    "\n",
    "df['Tipo de matrícula'] =  ['Especial', 'Regular', 'Especial', 'Especial', 'Regular', 'Especial', 'Especial', 'Especial']\n",
    "df"
   ]
  },
  {
   "cell_type": "code",
   "execution_count": 10,
   "metadata": {},
   "outputs": [
    {
     "data": {
      "text/html": [
       "<div>\n",
       "<style scoped>\n",
       "    .dataframe tbody tr th:only-of-type {\n",
       "        vertical-align: middle;\n",
       "    }\n",
       "\n",
       "    .dataframe tbody tr th {\n",
       "        vertical-align: top;\n",
       "    }\n",
       "\n",
       "    .dataframe thead th {\n",
       "        text-align: right;\n",
       "    }\n",
       "</style>\n",
       "<table border=\"1\" class=\"dataframe\">\n",
       "  <thead>\n",
       "    <tr style=\"text-align: right;\">\n",
       "      <th></th>\n",
       "      <th>Nomes</th>\n",
       "      <th>Situação</th>\n",
       "      <th>Matrícula</th>\n",
       "    </tr>\n",
       "  </thead>\n",
       "  <tbody>\n",
       "    <tr>\n",
       "      <th>0</th>\n",
       "      <td>Diego  Alecsander</td>\n",
       "      <td>Mestrando</td>\n",
       "      <td>Especial</td>\n",
       "    </tr>\n",
       "    <tr>\n",
       "      <th>1</th>\n",
       "      <td>Giulia</td>\n",
       "      <td>Doutorando</td>\n",
       "      <td>Regular</td>\n",
       "    </tr>\n",
       "    <tr>\n",
       "      <th>2</th>\n",
       "      <td>Willian</td>\n",
       "      <td>Mestrando</td>\n",
       "      <td>Especial</td>\n",
       "    </tr>\n",
       "    <tr>\n",
       "      <th>3</th>\n",
       "      <td>Leonardo</td>\n",
       "      <td>Mestrando</td>\n",
       "      <td>Especial</td>\n",
       "    </tr>\n",
       "    <tr>\n",
       "      <th>4</th>\n",
       "      <td>Rodrigo</td>\n",
       "      <td>Doutorando</td>\n",
       "      <td>Regular</td>\n",
       "    </tr>\n",
       "    <tr>\n",
       "      <th>5</th>\n",
       "      <td>João Pedro</td>\n",
       "      <td>Mestrando</td>\n",
       "      <td>Especial</td>\n",
       "    </tr>\n",
       "    <tr>\n",
       "      <th>6</th>\n",
       "      <td>Flavia  Luize</td>\n",
       "      <td>Mestrando</td>\n",
       "      <td>Especial</td>\n",
       "    </tr>\n",
       "    <tr>\n",
       "      <th>7</th>\n",
       "      <td>Thales Vinicius</td>\n",
       "      <td>Mestrando</td>\n",
       "      <td>Especial</td>\n",
       "    </tr>\n",
       "  </tbody>\n",
       "</table>\n",
       "</div>"
      ],
      "text/plain": [
       "               Nomes    Situação Matrícula\n",
       "0  Diego  Alecsander   Mestrando  Especial\n",
       "1             Giulia  Doutorando   Regular\n",
       "2            Willian   Mestrando  Especial\n",
       "3           Leonardo   Mestrando  Especial\n",
       "4            Rodrigo  Doutorando   Regular\n",
       "5         João Pedro   Mestrando  Especial\n",
       "6      Flavia  Luize   Mestrando  Especial\n",
       "7    Thales Vinicius   Mestrando  Especial"
      ]
     },
     "execution_count": 10,
     "metadata": {},
     "output_type": "execute_result"
    }
   ],
   "source": [
    "# Renomeando n colunas do dataframe\n",
    "\n",
    "df.columns = ['Nomes', 'Situação', 'Matrícula']\n",
    "df"
   ]
  },
  {
   "cell_type": "code",
   "execution_count": 11,
   "metadata": {},
   "outputs": [
    {
     "data": {
      "text/plain": [
       "Mestrando     Diego  Alecsander\n",
       "Doutorando               Giulia\n",
       "Mestrando               Willian\n",
       "Mestrando              Leonardo\n",
       "Doutorando              Rodrigo\n",
       "Mestrando            João Pedro\n",
       "Mestrando         Flavia  Luize\n",
       "Mestrando       Thales Vinicius\n",
       "Doutoranda               Camila\n",
       "dtype: object"
      ]
     },
     "execution_count": 11,
     "metadata": {},
     "output_type": "execute_result"
    }
   ],
   "source": [
    "# Concatenando séries\n",
    "\n",
    "a2 = pd.Series(['Camila'],\n",
    "               index=['Doutoranda'])\n",
    "\n",
    "alunos_2 = alunos_2.append(a2)\n",
    "alunos_2"
   ]
  },
  {
   "cell_type": "code",
   "execution_count": 12,
   "metadata": {},
   "outputs": [
    {
     "data": {
      "text/html": [
       "<div>\n",
       "<style scoped>\n",
       "    .dataframe tbody tr th:only-of-type {\n",
       "        vertical-align: middle;\n",
       "    }\n",
       "\n",
       "    .dataframe tbody tr th {\n",
       "        vertical-align: top;\n",
       "    }\n",
       "\n",
       "    .dataframe thead th {\n",
       "        text-align: right;\n",
       "    }\n",
       "</style>\n",
       "<table border=\"1\" class=\"dataframe\">\n",
       "  <thead>\n",
       "    <tr style=\"text-align: right;\">\n",
       "      <th></th>\n",
       "      <th>Nomes</th>\n",
       "      <th>Situação</th>\n",
       "      <th>Matrícula</th>\n",
       "      <th>Disciplina</th>\n",
       "      <th>Nota</th>\n",
       "    </tr>\n",
       "  </thead>\n",
       "  <tbody>\n",
       "    <tr>\n",
       "      <th>0</th>\n",
       "      <td>Diego  Alecsander</td>\n",
       "      <td>Mestrando</td>\n",
       "      <td>Especial</td>\n",
       "      <td>NaN</td>\n",
       "      <td>NaN</td>\n",
       "    </tr>\n",
       "    <tr>\n",
       "      <th>1</th>\n",
       "      <td>Giulia</td>\n",
       "      <td>Doutorando</td>\n",
       "      <td>Regular</td>\n",
       "      <td>NaN</td>\n",
       "      <td>NaN</td>\n",
       "    </tr>\n",
       "    <tr>\n",
       "      <th>2</th>\n",
       "      <td>Willian</td>\n",
       "      <td>Mestrando</td>\n",
       "      <td>Especial</td>\n",
       "      <td>NaN</td>\n",
       "      <td>NaN</td>\n",
       "    </tr>\n",
       "    <tr>\n",
       "      <th>3</th>\n",
       "      <td>Leonardo</td>\n",
       "      <td>Mestrando</td>\n",
       "      <td>Especial</td>\n",
       "      <td>NaN</td>\n",
       "      <td>NaN</td>\n",
       "    </tr>\n",
       "    <tr>\n",
       "      <th>4</th>\n",
       "      <td>Rodrigo</td>\n",
       "      <td>Doutorando</td>\n",
       "      <td>Regular</td>\n",
       "      <td>NaN</td>\n",
       "      <td>NaN</td>\n",
       "    </tr>\n",
       "    <tr>\n",
       "      <th>5</th>\n",
       "      <td>João Pedro</td>\n",
       "      <td>Mestrando</td>\n",
       "      <td>Especial</td>\n",
       "      <td>NaN</td>\n",
       "      <td>NaN</td>\n",
       "    </tr>\n",
       "    <tr>\n",
       "      <th>6</th>\n",
       "      <td>Flavia  Luize</td>\n",
       "      <td>Mestrando</td>\n",
       "      <td>Especial</td>\n",
       "      <td>NaN</td>\n",
       "      <td>NaN</td>\n",
       "    </tr>\n",
       "    <tr>\n",
       "      <th>7</th>\n",
       "      <td>Thales Vinicius</td>\n",
       "      <td>Mestrando</td>\n",
       "      <td>Especial</td>\n",
       "      <td>NaN</td>\n",
       "      <td>NaN</td>\n",
       "    </tr>\n",
       "    <tr>\n",
       "      <th>8</th>\n",
       "      <td>NaN</td>\n",
       "      <td>NaN</td>\n",
       "      <td>NaN</td>\n",
       "      <td>BD</td>\n",
       "      <td>9.50</td>\n",
       "    </tr>\n",
       "    <tr>\n",
       "      <th>9</th>\n",
       "      <td>NaN</td>\n",
       "      <td>NaN</td>\n",
       "      <td>NaN</td>\n",
       "      <td>BD</td>\n",
       "      <td>8.75</td>\n",
       "    </tr>\n",
       "    <tr>\n",
       "      <th>10</th>\n",
       "      <td>NaN</td>\n",
       "      <td>NaN</td>\n",
       "      <td>NaN</td>\n",
       "      <td>BD</td>\n",
       "      <td>9.00</td>\n",
       "    </tr>\n",
       "  </tbody>\n",
       "</table>\n",
       "</div>"
      ],
      "text/plain": [
       "                Nomes    Situação Matrícula Disciplina  Nota\n",
       "0   Diego  Alecsander   Mestrando  Especial        NaN   NaN\n",
       "1              Giulia  Doutorando   Regular        NaN   NaN\n",
       "2             Willian   Mestrando  Especial        NaN   NaN\n",
       "3            Leonardo   Mestrando  Especial        NaN   NaN\n",
       "4             Rodrigo  Doutorando   Regular        NaN   NaN\n",
       "5          João Pedro   Mestrando  Especial        NaN   NaN\n",
       "6       Flavia  Luize   Mestrando  Especial        NaN   NaN\n",
       "7     Thales Vinicius   Mestrando  Especial        NaN   NaN\n",
       "8                 NaN         NaN       NaN         BD  9.50\n",
       "9                 NaN         NaN       NaN         BD  8.75\n",
       "10                NaN         NaN       NaN         BD  9.00"
      ]
     },
     "execution_count": 12,
     "metadata": {},
     "output_type": "execute_result"
    }
   ],
   "source": [
    "# Concatenando dataframes\n",
    "# Neste caso, o dataframe 'df1'será adicionado ao final do 'df'\n",
    "# Logo, as colunas com dados ausentes ficam com o 'NaN'\n",
    "\n",
    "df_copy = df\n",
    "\n",
    "df1 = pd.DataFrame(\n",
    "    {\n",
    "        'Disciplina': ['BD', 'BD', 'BD'],\n",
    "        'Nota': [9.5, 8.75, 9.0]\n",
    "    },\n",
    "    index=[0, 1, 2])\n",
    "\n",
    "# O parâmetro ignore_index=True faz a concatenação dando sequencia do índice do\n",
    "# dataframe que sofre a concatenação (no caso, 3, 4 e 5)\n",
    "df = df.append(df1, ignore_index=True)\n",
    "df"
   ]
  },
  {
   "cell_type": "code",
   "execution_count": 13,
   "metadata": {},
   "outputs": [
    {
     "data": {
      "text/html": [
       "<div>\n",
       "<style scoped>\n",
       "    .dataframe tbody tr th:only-of-type {\n",
       "        vertical-align: middle;\n",
       "    }\n",
       "\n",
       "    .dataframe tbody tr th {\n",
       "        vertical-align: top;\n",
       "    }\n",
       "\n",
       "    .dataframe thead th {\n",
       "        text-align: right;\n",
       "    }\n",
       "</style>\n",
       "<table border=\"1\" class=\"dataframe\">\n",
       "  <thead>\n",
       "    <tr style=\"text-align: right;\">\n",
       "      <th></th>\n",
       "      <th>Nomes</th>\n",
       "      <th>Situação</th>\n",
       "      <th>Matrícula</th>\n",
       "      <th>Disciplina</th>\n",
       "      <th>Nota</th>\n",
       "    </tr>\n",
       "  </thead>\n",
       "  <tbody>\n",
       "    <tr>\n",
       "      <th>0</th>\n",
       "      <td>Diego  Alecsander</td>\n",
       "      <td>Mestrando</td>\n",
       "      <td>Especial</td>\n",
       "      <td>BD</td>\n",
       "      <td>9.50</td>\n",
       "    </tr>\n",
       "    <tr>\n",
       "      <th>1</th>\n",
       "      <td>Giulia</td>\n",
       "      <td>Doutorando</td>\n",
       "      <td>Regular</td>\n",
       "      <td>BD</td>\n",
       "      <td>8.75</td>\n",
       "    </tr>\n",
       "    <tr>\n",
       "      <th>2</th>\n",
       "      <td>Willian</td>\n",
       "      <td>Mestrando</td>\n",
       "      <td>Especial</td>\n",
       "      <td>BD</td>\n",
       "      <td>9.00</td>\n",
       "    </tr>\n",
       "  </tbody>\n",
       "</table>\n",
       "</div>"
      ],
      "text/plain": [
       "               Nomes    Situação Matrícula Disciplina  Nota\n",
       "0  Diego  Alecsander   Mestrando  Especial         BD  9.50\n",
       "1             Giulia  Doutorando   Regular         BD  8.75\n",
       "2            Willian   Mestrando  Especial         BD  9.00"
      ]
     },
     "execution_count": 13,
     "metadata": {},
     "output_type": "execute_result"
    }
   ],
   "source": [
    "# Uma opção para juntar varias colunas é utilizando o Merge\n",
    "# Neste caso, utilizamos os índices de ambos dataframes\n",
    "# para realizar tal junção\n",
    "\n",
    "df_merge_col = pd.merge(df_copy, df1, left_index=True, right_index=True)\n",
    "\n",
    "df_merge_col"
   ]
  },
  {
   "cell_type": "code",
   "execution_count": 14,
   "metadata": {},
   "outputs": [
    {
     "data": {
      "text/plain": [
       "Doutoranda               Camila\n",
       "Mestrando     Diego  Alecsander\n",
       "Mestrando         Flavia  Luize\n",
       "Doutorando               Giulia\n",
       "Mestrando            João Pedro\n",
       "Mestrando              Leonardo\n",
       "Doutorando              Rodrigo\n",
       "Mestrando       Thales Vinicius\n",
       "Mestrando               Willian\n",
       "dtype: object"
      ]
     },
     "execution_count": 14,
     "metadata": {},
     "output_type": "execute_result"
    }
   ],
   "source": [
    "# Ordenando os dados da série 'alunos_2'\n",
    "\n",
    "alunos_2.sort_values()"
   ]
  },
  {
   "cell_type": "code",
   "execution_count": 15,
   "metadata": {},
   "outputs": [
    {
     "data": {
      "text/html": [
       "<div>\n",
       "<style scoped>\n",
       "    .dataframe tbody tr th:only-of-type {\n",
       "        vertical-align: middle;\n",
       "    }\n",
       "\n",
       "    .dataframe tbody tr th {\n",
       "        vertical-align: top;\n",
       "    }\n",
       "\n",
       "    .dataframe thead th {\n",
       "        text-align: right;\n",
       "    }\n",
       "</style>\n",
       "<table border=\"1\" class=\"dataframe\">\n",
       "  <thead>\n",
       "    <tr style=\"text-align: right;\">\n",
       "      <th></th>\n",
       "      <th>Nomes</th>\n",
       "      <th>Situação</th>\n",
       "      <th>Matrícula</th>\n",
       "      <th>Disciplina</th>\n",
       "      <th>Nota</th>\n",
       "    </tr>\n",
       "  </thead>\n",
       "  <tbody>\n",
       "    <tr>\n",
       "      <th>0</th>\n",
       "      <td>Diego  Alecsander</td>\n",
       "      <td>Mestrando</td>\n",
       "      <td>Especial</td>\n",
       "      <td>NaN</td>\n",
       "      <td>NaN</td>\n",
       "    </tr>\n",
       "    <tr>\n",
       "      <th>6</th>\n",
       "      <td>Flavia  Luize</td>\n",
       "      <td>Mestrando</td>\n",
       "      <td>Especial</td>\n",
       "      <td>NaN</td>\n",
       "      <td>NaN</td>\n",
       "    </tr>\n",
       "    <tr>\n",
       "      <th>1</th>\n",
       "      <td>Giulia</td>\n",
       "      <td>Doutorando</td>\n",
       "      <td>Regular</td>\n",
       "      <td>NaN</td>\n",
       "      <td>NaN</td>\n",
       "    </tr>\n",
       "    <tr>\n",
       "      <th>5</th>\n",
       "      <td>João Pedro</td>\n",
       "      <td>Mestrando</td>\n",
       "      <td>Especial</td>\n",
       "      <td>NaN</td>\n",
       "      <td>NaN</td>\n",
       "    </tr>\n",
       "    <tr>\n",
       "      <th>3</th>\n",
       "      <td>Leonardo</td>\n",
       "      <td>Mestrando</td>\n",
       "      <td>Especial</td>\n",
       "      <td>NaN</td>\n",
       "      <td>NaN</td>\n",
       "    </tr>\n",
       "    <tr>\n",
       "      <th>4</th>\n",
       "      <td>Rodrigo</td>\n",
       "      <td>Doutorando</td>\n",
       "      <td>Regular</td>\n",
       "      <td>NaN</td>\n",
       "      <td>NaN</td>\n",
       "    </tr>\n",
       "    <tr>\n",
       "      <th>7</th>\n",
       "      <td>Thales Vinicius</td>\n",
       "      <td>Mestrando</td>\n",
       "      <td>Especial</td>\n",
       "      <td>NaN</td>\n",
       "      <td>NaN</td>\n",
       "    </tr>\n",
       "    <tr>\n",
       "      <th>2</th>\n",
       "      <td>Willian</td>\n",
       "      <td>Mestrando</td>\n",
       "      <td>Especial</td>\n",
       "      <td>NaN</td>\n",
       "      <td>NaN</td>\n",
       "    </tr>\n",
       "    <tr>\n",
       "      <th>8</th>\n",
       "      <td>NaN</td>\n",
       "      <td>NaN</td>\n",
       "      <td>NaN</td>\n",
       "      <td>BD</td>\n",
       "      <td>9.50</td>\n",
       "    </tr>\n",
       "    <tr>\n",
       "      <th>9</th>\n",
       "      <td>NaN</td>\n",
       "      <td>NaN</td>\n",
       "      <td>NaN</td>\n",
       "      <td>BD</td>\n",
       "      <td>8.75</td>\n",
       "    </tr>\n",
       "    <tr>\n",
       "      <th>10</th>\n",
       "      <td>NaN</td>\n",
       "      <td>NaN</td>\n",
       "      <td>NaN</td>\n",
       "      <td>BD</td>\n",
       "      <td>9.00</td>\n",
       "    </tr>\n",
       "  </tbody>\n",
       "</table>\n",
       "</div>"
      ],
      "text/plain": [
       "                Nomes    Situação Matrícula Disciplina  Nota\n",
       "0   Diego  Alecsander   Mestrando  Especial        NaN   NaN\n",
       "6       Flavia  Luize   Mestrando  Especial        NaN   NaN\n",
       "1              Giulia  Doutorando   Regular        NaN   NaN\n",
       "5          João Pedro   Mestrando  Especial        NaN   NaN\n",
       "3            Leonardo   Mestrando  Especial        NaN   NaN\n",
       "4             Rodrigo  Doutorando   Regular        NaN   NaN\n",
       "7     Thales Vinicius   Mestrando  Especial        NaN   NaN\n",
       "2             Willian   Mestrando  Especial        NaN   NaN\n",
       "8                 NaN         NaN       NaN         BD  9.50\n",
       "9                 NaN         NaN       NaN         BD  8.75\n",
       "10                NaN         NaN       NaN         BD  9.00"
      ]
     },
     "execution_count": 15,
     "metadata": {},
     "output_type": "execute_result"
    }
   ],
   "source": [
    "# Ordenando os dados  do dataframe df\n",
    "\n",
    "df.sort_values(by=['Nomes'], ascending=True, inplace=True)\n",
    "df"
   ]
  },
  {
   "cell_type": "markdown",
   "metadata": {},
   "source": [
    "### Informações sobre os objetos (series e dataframes)"
   ]
  },
  {
   "cell_type": "code",
   "execution_count": 16,
   "metadata": {},
   "outputs": [
    {
     "data": {
      "text/plain": [
       "(9,)"
      ]
     },
     "execution_count": 16,
     "metadata": {},
     "output_type": "execute_result"
    }
   ],
   "source": [
    "# Numero de linhas da série 'alunos_2'\n",
    "\n",
    "alunos_2.shape"
   ]
  },
  {
   "cell_type": "code",
   "execution_count": 17,
   "metadata": {},
   "outputs": [
    {
     "data": {
      "text/plain": [
       "(11, 5)"
      ]
     },
     "execution_count": 17,
     "metadata": {},
     "output_type": "execute_result"
    }
   ],
   "source": [
    "# Número de linhas e colunas do dataframe 'df'\n",
    "\n",
    "df.shape"
   ]
  },
  {
   "cell_type": "code",
   "execution_count": 18,
   "metadata": {},
   "outputs": [
    {
     "data": {
      "text/plain": [
       "Index(['Mestrando', 'Doutorando', 'Mestrando', 'Mestrando', 'Doutorando',\n",
       "       'Mestrando', 'Mestrando', 'Mestrando', 'Doutoranda'],\n",
       "      dtype='object')"
      ]
     },
     "execution_count": 18,
     "metadata": {},
     "output_type": "execute_result"
    }
   ],
   "source": [
    "# Índices da série 'alunos_2'\n",
    "\n",
    "alunos_2.index"
   ]
  },
  {
   "cell_type": "code",
   "execution_count": 19,
   "metadata": {},
   "outputs": [
    {
     "data": {
      "text/plain": [
       "Int64Index([0, 6, 1, 5, 3, 4, 7, 2, 8, 9, 10], dtype='int64')"
      ]
     },
     "execution_count": 19,
     "metadata": {},
     "output_type": "execute_result"
    }
   ],
   "source": [
    "# Índices do dataframe 'df'\n",
    "\n",
    "df.index"
   ]
  },
  {
   "cell_type": "code",
   "execution_count": 20,
   "metadata": {},
   "outputs": [],
   "source": [
    "# Series não tem colunas, logo este comando nao funciona \n",
    "\n",
    "#alunos_2.columns"
   ]
  },
  {
   "cell_type": "code",
   "execution_count": 21,
   "metadata": {},
   "outputs": [
    {
     "data": {
      "text/plain": [
       "Index(['Nomes', 'Situação', 'Matrícula', 'Disciplina', 'Nota'], dtype='object')"
      ]
     },
     "execution_count": 21,
     "metadata": {},
     "output_type": "execute_result"
    }
   ],
   "source": [
    "# Nomes das colunas do dataframe 'df'\n",
    "\n",
    "df.columns"
   ]
  },
  {
   "cell_type": "code",
   "execution_count": 22,
   "metadata": {},
   "outputs": [
    {
     "data": {
      "text/plain": [
       "dtype('O')"
      ]
     },
     "execution_count": 22,
     "metadata": {},
     "output_type": "execute_result"
    }
   ],
   "source": [
    "# Tipo dos dados na série 'alunos_2'\n",
    "\n",
    "alunos_2.dtypes"
   ]
  },
  {
   "cell_type": "code",
   "execution_count": 23,
   "metadata": {
    "scrolled": true
   },
   "outputs": [
    {
     "data": {
      "text/plain": [
       "Nomes          object\n",
       "Situação       object\n",
       "Matrícula      object\n",
       "Disciplina     object\n",
       "Nota          float64\n",
       "dtype: object"
      ]
     },
     "execution_count": 23,
     "metadata": {},
     "output_type": "execute_result"
    }
   ],
   "source": [
    "# Tipos dos dados no dataframe 'df'\n",
    "\n",
    "df.dtypes"
   ]
  },
  {
   "cell_type": "markdown",
   "metadata": {},
   "source": [
    "### Resumo dos dados"
   ]
  },
  {
   "cell_type": "code",
   "execution_count": 24,
   "metadata": {},
   "outputs": [
    {
     "data": {
      "text/plain": [
       "Mestrando     Diego  Alecsander\n",
       "Doutorando               Giulia\n",
       "dtype: object"
      ]
     },
     "execution_count": 24,
     "metadata": {},
     "output_type": "execute_result"
    }
   ],
   "source": [
    "# Exibindo os n (=2) primeiros elementos da série 'alunos_2'\n",
    "\n",
    "alunos_2.head(2)"
   ]
  },
  {
   "cell_type": "code",
   "execution_count": 25,
   "metadata": {},
   "outputs": [
    {
     "data": {
      "text/html": [
       "<div>\n",
       "<style scoped>\n",
       "    .dataframe tbody tr th:only-of-type {\n",
       "        vertical-align: middle;\n",
       "    }\n",
       "\n",
       "    .dataframe tbody tr th {\n",
       "        vertical-align: top;\n",
       "    }\n",
       "\n",
       "    .dataframe thead th {\n",
       "        text-align: right;\n",
       "    }\n",
       "</style>\n",
       "<table border=\"1\" class=\"dataframe\">\n",
       "  <thead>\n",
       "    <tr style=\"text-align: right;\">\n",
       "      <th></th>\n",
       "      <th>Nomes</th>\n",
       "      <th>Situação</th>\n",
       "      <th>Matrícula</th>\n",
       "      <th>Disciplina</th>\n",
       "      <th>Nota</th>\n",
       "    </tr>\n",
       "  </thead>\n",
       "  <tbody>\n",
       "    <tr>\n",
       "      <th>0</th>\n",
       "      <td>Diego  Alecsander</td>\n",
       "      <td>Mestrando</td>\n",
       "      <td>Especial</td>\n",
       "      <td>NaN</td>\n",
       "      <td>NaN</td>\n",
       "    </tr>\n",
       "    <tr>\n",
       "      <th>6</th>\n",
       "      <td>Flavia  Luize</td>\n",
       "      <td>Mestrando</td>\n",
       "      <td>Especial</td>\n",
       "      <td>NaN</td>\n",
       "      <td>NaN</td>\n",
       "    </tr>\n",
       "  </tbody>\n",
       "</table>\n",
       "</div>"
      ],
      "text/plain": [
       "               Nomes   Situação Matrícula Disciplina  Nota\n",
       "0  Diego  Alecsander  Mestrando  Especial        NaN   NaN\n",
       "6      Flavia  Luize  Mestrando  Especial        NaN   NaN"
      ]
     },
     "execution_count": 25,
     "metadata": {},
     "output_type": "execute_result"
    }
   ],
   "source": [
    "# Exibindo os n (=2) primeiros elementos do dataframe 'df'\n",
    "\n",
    "df.head(2)"
   ]
  },
  {
   "cell_type": "code",
   "execution_count": 26,
   "metadata": {},
   "outputs": [
    {
     "data": {
      "text/plain": [
       "Mestrando     Thales Vinicius\n",
       "Doutoranda             Camila\n",
       "dtype: object"
      ]
     },
     "execution_count": 26,
     "metadata": {},
     "output_type": "execute_result"
    }
   ],
   "source": [
    "# Exibindo os n (=2) últimos elementos da série 'alunos_2'\n",
    "\n",
    "alunos_2.tail(2)"
   ]
  },
  {
   "cell_type": "code",
   "execution_count": 27,
   "metadata": {},
   "outputs": [
    {
     "data": {
      "text/plain": [
       "Mestrando     Diego  Alecsander\n",
       "Doutorando               Giulia\n",
       "Mestrando               Willian\n",
       "Mestrando              Leonardo\n",
       "Doutorando              Rodrigo\n",
       "Mestrando            João Pedro\n",
       "Mestrando         Flavia  Luize\n",
       "Mestrando       Thales Vinicius\n",
       "Doutoranda               Camila\n",
       "dtype: object"
      ]
     },
     "execution_count": 27,
     "metadata": {},
     "output_type": "execute_result"
    }
   ],
   "source": [
    "alunos_2"
   ]
  },
  {
   "cell_type": "code",
   "execution_count": 28,
   "metadata": {},
   "outputs": [
    {
     "data": {
      "text/html": [
       "<div>\n",
       "<style scoped>\n",
       "    .dataframe tbody tr th:only-of-type {\n",
       "        vertical-align: middle;\n",
       "    }\n",
       "\n",
       "    .dataframe tbody tr th {\n",
       "        vertical-align: top;\n",
       "    }\n",
       "\n",
       "    .dataframe thead th {\n",
       "        text-align: right;\n",
       "    }\n",
       "</style>\n",
       "<table border=\"1\" class=\"dataframe\">\n",
       "  <thead>\n",
       "    <tr style=\"text-align: right;\">\n",
       "      <th></th>\n",
       "      <th>Nomes</th>\n",
       "      <th>Situação</th>\n",
       "      <th>Matrícula</th>\n",
       "      <th>Disciplina</th>\n",
       "      <th>Nota</th>\n",
       "    </tr>\n",
       "  </thead>\n",
       "  <tbody>\n",
       "    <tr>\n",
       "      <th>9</th>\n",
       "      <td>NaN</td>\n",
       "      <td>NaN</td>\n",
       "      <td>NaN</td>\n",
       "      <td>BD</td>\n",
       "      <td>8.75</td>\n",
       "    </tr>\n",
       "    <tr>\n",
       "      <th>10</th>\n",
       "      <td>NaN</td>\n",
       "      <td>NaN</td>\n",
       "      <td>NaN</td>\n",
       "      <td>BD</td>\n",
       "      <td>9.00</td>\n",
       "    </tr>\n",
       "  </tbody>\n",
       "</table>\n",
       "</div>"
      ],
      "text/plain": [
       "   Nomes Situação Matrícula Disciplina  Nota\n",
       "9    NaN      NaN       NaN         BD  8.75\n",
       "10   NaN      NaN       NaN         BD  9.00"
      ]
     },
     "execution_count": 28,
     "metadata": {},
     "output_type": "execute_result"
    }
   ],
   "source": [
    "# Exibindo os n (=2) últimos elementos do dataframe 'df'\n",
    "\n",
    "df.tail(2)"
   ]
  },
  {
   "cell_type": "code",
   "execution_count": 29,
   "metadata": {},
   "outputs": [
    {
     "data": {
      "text/plain": [
       "'Diego  AlecsanderWillianLeonardoJoão PedroFlavia  LuizeThales Vinicius'"
      ]
     },
     "execution_count": 29,
     "metadata": {},
     "output_type": "execute_result"
    }
   ],
   "source": [
    "# SOMA dos valores do índice 'alunos_2' da série alunos\n",
    "# Como nesta série não possuimos valores, a soma se dá pela\n",
    "# concatenação de strings\n",
    "\n",
    "alunos_2['Mestrando'].sum()"
   ]
  },
  {
   "cell_type": "code",
   "execution_count": 30,
   "metadata": {},
   "outputs": [
    {
     "data": {
      "text/plain": [
       "27.25"
      ]
     },
     "execution_count": 30,
     "metadata": {},
     "output_type": "execute_result"
    }
   ],
   "source": [
    "# SOMA dos valores da coluna 'Nota' do dataframe 'df'\n",
    "\n",
    "df['Nota'].sum()"
   ]
  },
  {
   "cell_type": "code",
   "execution_count": 31,
   "metadata": {},
   "outputs": [
    {
     "data": {
      "text/plain": [
       "'Camila'"
      ]
     },
     "execution_count": 31,
     "metadata": {},
     "output_type": "execute_result"
    }
   ],
   "source": [
    "# Valor MÍNIMO da série 'alunos_2'\n",
    "# Como é uma série de strings, o valor mínimo é o primeiro elemento\n",
    "\n",
    "alunos_2.min()"
   ]
  },
  {
   "cell_type": "code",
   "execution_count": 32,
   "metadata": {},
   "outputs": [
    {
     "data": {
      "text/plain": [
       "Nota    8.75\n",
       "dtype: float64"
      ]
     },
     "execution_count": 32,
     "metadata": {},
     "output_type": "execute_result"
    }
   ],
   "source": [
    "# Valores MÍNIMOS do dataframe 'df'\n",
    "# Como não foi especificado nenhuma coluna, todas as colunas numéricas\n",
    "# foram retornadas com seus respectivos valores mínimos\n",
    "\n",
    "df.min()"
   ]
  },
  {
   "cell_type": "code",
   "execution_count": 33,
   "metadata": {},
   "outputs": [
    {
     "data": {
      "text/plain": [
       "'Willian'"
      ]
     },
     "execution_count": 33,
     "metadata": {},
     "output_type": "execute_result"
    }
   ],
   "source": [
    "# Valores MÁXIMOS da serie 'alunos_2'\n",
    "# Como é uma série de strings, o valor máximo é o último elemento\n",
    "\n",
    "\n",
    "alunos_2.max()"
   ]
  },
  {
   "cell_type": "code",
   "execution_count": 34,
   "metadata": {},
   "outputs": [
    {
     "data": {
      "text/plain": [
       "9.5"
      ]
     },
     "execution_count": 34,
     "metadata": {},
     "output_type": "execute_result"
    }
   ],
   "source": [
    "# Valores MÁXIMOS da coluna 'Nota' do dataframe 'df'\n",
    "# se não especificarmos uma coluna, todas as colunas numéricas\n",
    "# serão retornadas\n",
    "\n",
    "df['Nota'].max()"
   ]
  },
  {
   "cell_type": "code",
   "execution_count": 35,
   "metadata": {},
   "outputs": [],
   "source": [
    "# MÉDIA de valores da série 'alunos_2'\n",
    "# como não possui valores numéricos, esta função não se aplica a esta série\n",
    "\n",
    "#alunos_2.mean()"
   ]
  },
  {
   "cell_type": "code",
   "execution_count": 36,
   "metadata": {},
   "outputs": [
    {
     "data": {
      "text/plain": [
       "Nota    9.083333\n",
       "dtype: float64"
      ]
     },
     "execution_count": 36,
     "metadata": {},
     "output_type": "execute_result"
    }
   ],
   "source": [
    "# MÉDIA de valores do dataframe 'df'\n",
    "# Se quiser a média de uma única coluna, basta especificá-la\n",
    "\n",
    "df.mean()"
   ]
  },
  {
   "cell_type": "code",
   "execution_count": 37,
   "metadata": {},
   "outputs": [],
   "source": [
    "# MEDIANA dos valores da série 'alunos_2'\n",
    "#como não possui valores numéricos, esta função não se aplica a esta série\n",
    "\n",
    "#alunos_2.median()"
   ]
  },
  {
   "cell_type": "code",
   "execution_count": 38,
   "metadata": {},
   "outputs": [
    {
     "data": {
      "text/plain": [
       "Nota    9.0\n",
       "dtype: float64"
      ]
     },
     "execution_count": 38,
     "metadata": {},
     "output_type": "execute_result"
    }
   ],
   "source": [
    "# MEDIANA dos valores do dataframe 'df'\n",
    "# Se quiser a mediana de uma única coluna, basta especificá-la\n",
    "\n",
    "df.median()"
   ]
  },
  {
   "cell_type": "code",
   "execution_count": 39,
   "metadata": {},
   "outputs": [
    {
     "data": {
      "text/plain": [
       "9"
      ]
     },
     "execution_count": 39,
     "metadata": {},
     "output_type": "execute_result"
    }
   ],
   "source": [
    "# CONTAGEM de elementos da série 'alunos_2'\n",
    "\n",
    "alunos_2.count()"
   ]
  },
  {
   "cell_type": "code",
   "execution_count": 40,
   "metadata": {},
   "outputs": [
    {
     "data": {
      "text/plain": [
       "Nomes         8\n",
       "Situação      8\n",
       "Matrícula     8\n",
       "Disciplina    3\n",
       "Nota          3\n",
       "dtype: int64"
      ]
     },
     "execution_count": 40,
     "metadata": {},
     "output_type": "execute_result"
    }
   ],
   "source": [
    "# CONTAGEM de elementos de cada coluna do dataframe 'df'\n",
    "# Se quiser a contagem de uma única coluna, basta especificá-la\n",
    "\n",
    "df.count()"
   ]
  },
  {
   "cell_type": "code",
   "execution_count": 41,
   "metadata": {
    "scrolled": true
   },
   "outputs": [
    {
     "data": {
      "text/plain": [
       "count          9\n",
       "unique         9\n",
       "top       Giulia\n",
       "freq           1\n",
       "dtype: object"
      ]
     },
     "execution_count": 41,
     "metadata": {},
     "output_type": "execute_result"
    }
   ],
   "source": [
    "# Resumo dos dados da série 'alunos_2'\n",
    "# Note que as informações retornadas variam de acordo com\n",
    "# os dados disponíveis\n",
    "\n",
    "alunos_2.describe()"
   ]
  },
  {
   "cell_type": "code",
   "execution_count": 42,
   "metadata": {},
   "outputs": [
    {
     "data": {
      "text/html": [
       "<div>\n",
       "<style scoped>\n",
       "    .dataframe tbody tr th:only-of-type {\n",
       "        vertical-align: middle;\n",
       "    }\n",
       "\n",
       "    .dataframe tbody tr th {\n",
       "        vertical-align: top;\n",
       "    }\n",
       "\n",
       "    .dataframe thead th {\n",
       "        text-align: right;\n",
       "    }\n",
       "</style>\n",
       "<table border=\"1\" class=\"dataframe\">\n",
       "  <thead>\n",
       "    <tr style=\"text-align: right;\">\n",
       "      <th></th>\n",
       "      <th>Nota</th>\n",
       "    </tr>\n",
       "  </thead>\n",
       "  <tbody>\n",
       "    <tr>\n",
       "      <th>count</th>\n",
       "      <td>3.000000</td>\n",
       "    </tr>\n",
       "    <tr>\n",
       "      <th>mean</th>\n",
       "      <td>9.083333</td>\n",
       "    </tr>\n",
       "    <tr>\n",
       "      <th>std</th>\n",
       "      <td>0.381881</td>\n",
       "    </tr>\n",
       "    <tr>\n",
       "      <th>min</th>\n",
       "      <td>8.750000</td>\n",
       "    </tr>\n",
       "    <tr>\n",
       "      <th>25%</th>\n",
       "      <td>8.875000</td>\n",
       "    </tr>\n",
       "    <tr>\n",
       "      <th>50%</th>\n",
       "      <td>9.000000</td>\n",
       "    </tr>\n",
       "    <tr>\n",
       "      <th>75%</th>\n",
       "      <td>9.250000</td>\n",
       "    </tr>\n",
       "    <tr>\n",
       "      <th>max</th>\n",
       "      <td>9.500000</td>\n",
       "    </tr>\n",
       "  </tbody>\n",
       "</table>\n",
       "</div>"
      ],
      "text/plain": [
       "           Nota\n",
       "count  3.000000\n",
       "mean   9.083333\n",
       "std    0.381881\n",
       "min    8.750000\n",
       "25%    8.875000\n",
       "50%    9.000000\n",
       "75%    9.250000\n",
       "max    9.500000"
      ]
     },
     "execution_count": 42,
     "metadata": {},
     "output_type": "execute_result"
    }
   ],
   "source": [
    "# Resumo dos dados d0 dataframe 'df'\n",
    "# Note que as informações retornadas variam de acordo com\n",
    "# os dados disponíveis\n",
    "\n",
    "df.describe()"
   ]
  },
  {
   "cell_type": "markdown",
   "metadata": {},
   "source": [
    "## Fim da Parte 2. Introducao ao Pandas\n",
    "\n",
    "Introdução à biblioteca pandas, apresentando como criar e manipular objetos do tipo series e dataframes.\n",
    "\n",
    "O próximo notebook será a **Parte 3. Machine Learning Exemplo_1**.\n",
    "\n",
    "\n",
    "\n"
   ]
  }
 ],
 "metadata": {
  "julynter-results": {
   "filteredId": [],
   "filteredIndividual": [],
   "filteredRestart": [],
   "filteredType": [],
   "hash": "7361989997d0ce8f461d839ed9d0e038da365a99",
   "visible": []
  },
  "kernelspec": {
   "display_name": "Python 3",
   "language": "python",
   "name": "python3"
  },
  "language_info": {
   "codemirror_mode": {
    "name": "ipython",
    "version": 3
   },
   "file_extension": ".py",
   "mimetype": "text/x-python",
   "name": "python",
   "nbconvert_exporter": "python",
   "pygments_lexer": "ipython3",
   "version": "3.8.8"
  },
  "latex_envs": {
   "LaTeX_envs_menu_present": true,
   "autoclose": true,
   "autocomplete": true,
   "bibliofile": "biblio.bib",
   "cite_by": "apalike",
   "current_citInitial": 1,
   "eqLabelWithNumbers": true,
   "eqNumInitial": 1,
   "hotkeys": {
    "equation": "Ctrl-E",
    "itemize": "Ctrl-I"
   },
   "labels_anchors": false,
   "latex_user_defs": false,
   "report_style_numbering": false,
   "user_envs_cfg": false
  }
 },
 "nbformat": 4,
 "nbformat_minor": 4
}
