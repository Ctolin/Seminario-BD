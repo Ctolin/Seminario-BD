{
 "cells": [
  {
   "cell_type": "markdown",
   "id": "835683f5",
   "metadata": {},
   "source": [
    "# Seminário de Banco de Dados"
   ]
  },
  {
   "cell_type": "markdown",
   "id": "9aee9f07",
   "metadata": {},
   "source": [
    "# 0. Apresentando o Jupyter Notebook"
   ]
  },
  {
   "cell_type": "markdown",
   "id": "358c84a7",
   "metadata": {},
   "source": [
    "https://jupyter.org/"
   ]
  },
  {
   "cell_type": "markdown",
   "id": "db4ee376",
   "metadata": {},
   "source": [
    "## Projeto Jupyter"
   ]
  },
  {
   "cell_type": "markdown",
   "id": "ca9f0940",
   "metadata": {},
   "source": [
    "O Projeto Jupyter existe para desenvolver software de código aberto, padrões abertos e serviços para computação interativa em dezenas de linguagens de programação."
   ]
  },
  {
   "cell_type": "markdown",
   "id": "290374c7",
   "metadata": {},
   "source": [
    "## Jupyter Notebook"
   ]
  },
  {
   "cell_type": "markdown",
   "id": "91654f2b",
   "metadata": {},
   "source": [
    "O Jupyter Notebook é um aplicativo da web de código aberto que permite criar e compartilhar documentos que contêm código ativo, equações, visualizações e texto narrativo. Os usos incluem: limpeza e transformação de dados, simulação numérica, modelagem estatística, visualização de dados, aprendizado de máquina e muito mais."
   ]
  },
  {
   "cell_type": "markdown",
   "id": "a7692fa6",
   "metadata": {},
   "source": [
    "Jupyter oferece suporte a mais de 40 linguagens de programação, incluindo Python, R, Julia e Scala."
   ]
  },
  {
   "cell_type": "markdown",
   "id": "f4b9a846",
   "metadata": {},
   "source": [
    "Utilizar diretamento no navegador ou instalar no seu desktop."
   ]
  },
  {
   "cell_type": "markdown",
   "id": "eed79e46",
   "metadata": {},
   "source": [
    "## Resumo\n",
    "\n",
    "A Ciência de Dados tornou-se um tópico de pesquisa emergente na Ciência da Computação devido ao crescente interesse em extrair conhecimento de diferentes fontes de dados. Nesse contexto, o Jupyter Notebook vem se consolidando como uma das principais ferramentas utilizadas para cientistas de dados para realizar análises exploratórias de dados de forma rápida e direta, com alto potencial de reprodução de código. "
   ]
  },
  {
   "cell_type": "markdown",
   "id": "f3f8ec49",
   "metadata": {},
   "source": [
    "## Ferramentas auxiliares\n",
    "\n",
    "https://github.com/\n",
    "\n",
    "https://mybinder.org/"
   ]
  },
  {
   "cell_type": "markdown",
   "id": "fb394b27",
   "metadata": {},
   "source": [
    "## Python no Jupyter Notebook\n",
    "\n",
    "Python é uma linguagem de programação que permite trabalhar rapidamente e integrar sistemas de forma mais eficaz.\n",
    "\n",
    "https://www.python.org/"
   ]
  },
  {
   "cell_type": "markdown",
   "id": "4ea63623",
   "metadata": {},
   "source": [
    "# Fim da Parte 0. Apresentando o Jupyter Notebook\n",
    "\n",
    "Breve apresentação da IDE Jupyter.\n",
    "\n",
    "O próximo notebook será a **Parte 1. Estrutura geral de um Notebooks**."
   ]
  }
 ],
 "metadata": {
  "kernelspec": {
   "display_name": "Python 3",
   "language": "python",
   "name": "python3"
  },
  "language_info": {
   "codemirror_mode": {
    "name": "ipython",
    "version": 3
   },
   "file_extension": ".py",
   "mimetype": "text/x-python",
   "name": "python",
   "nbconvert_exporter": "python",
   "pygments_lexer": "ipython3",
   "version": "3.8.8"
  }
 },
 "nbformat": 4,
 "nbformat_minor": 5
}
